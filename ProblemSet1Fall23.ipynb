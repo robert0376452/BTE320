{
  "nbformat": 4,
  "nbformat_minor": 0,
  "metadata": {
    "colab": {
      "provenance": [],
      "toc_visible": true,
      "include_colab_link": true
    },
    "kernelspec": {
      "name": "python3",
      "display_name": "Python 3"
    },
    "language_info": {
      "name": "python"
    }
  },
  "cells": [
    {
      "cell_type": "markdown",
      "metadata": {
        "id": "view-in-github",
        "colab_type": "text"
      },
      "source": [
        "<a href=\"https://colab.research.google.com/github/robert0376452/BTE320/blob/main/ProblemSet1Fall23.ipynb\" target=\"_parent\"><img src=\"https://colab.research.google.com/assets/colab-badge.svg\" alt=\"Open In Colab\"/></a>"
      ]
    },
    {
      "cell_type": "markdown",
      "source": [
        "# Problem Set 2"
      ],
      "metadata": {
        "id": "mqKVIuY-mxNU"
      }
    },
    {
      "cell_type": "markdown",
      "source": [
        "## Assignment 1: Quality Control (7 points)\n",
        "\n",
        "A quality control manager would like to find the average weight of a list of weights. Prior experience indicates that the first two measures are atypical, and the practice is to exclude these from the average calculation.\n",
        "\n",
        "Write a program that calculates the average of a list of numbers that given as inputs from the user, excluding the first two values.\n",
        "\n",
        "For your program, you must define and use the following functions:\n",
        "- `getValues(n)`: Prompt the user for `n` values, returns the list\n",
        "- `calcAverage(alist)`: Calculates the average from the list"
      ],
      "metadata": {
        "id": "-RSYW1jVm08n"
      }
    },
    {
      "cell_type": "code",
      "execution_count": null,
      "metadata": {
        "id": "AqbgJkgNmvQw",
        "colab": {
          "base_uri": "https://localhost:8080/"
        },
        "outputId": "c0042267-1a11-4cb7-d06f-97e7203d4e65"
      },
      "outputs": [
        {
          "output_type": "stream",
          "name": "stdout",
          "text": [
            "Input Weight: 1\n",
            "Input Weight: 2\n",
            "Input Weight: 3\n",
            "Input Weight: 4\n",
            "Input Weight: 5\n",
            "The average weight is: 4.0 lbs\n"
          ]
        }
      ],
      "source": [
        "# first 2 weights, indexes 0 and 1 are excluded from calculating the average\n",
        "# inputs from keyboard into a list from where program takes average\n",
        "\n",
        "def getValues(n):\n",
        "  L = []\n",
        "  for i in range(n):\n",
        "   inputs = float(input(\"Input Weight: \"))\n",
        "   L.append(inputs)\n",
        "  return L[2:] #return everything after the first 2 items\n",
        "\n",
        "def calcAverage(alist):\n",
        "  calc = sum(alist)/len(alist)\n",
        "  print(f'The average weight is: {calc} lbs')\n",
        "\n",
        "if __name__ == \"__main__\":\n",
        "\n",
        "  W = getValues(5) # returns list of 5 weights\n",
        "  calcAverage(W) # calculates average of weights, omitting index 0 and 1"
      ]
    },
    {
      "cell_type": "markdown",
      "source": [
        "## Assignment 2: Country Statistics Lookup-Multiple Measures (6 points)\n",
        "\n",
        "Assume a program begins with the statement:\n",
        "\n",
        "```python\n",
        "allData = { # dictionary of values for countries\n",
        "    'US': {'pop':325.7, 'gdp': 19.39, 'ccy': 'USD', 'fx':  1.0},\n",
        "    'CA': {'pop': 36.5, 'gdp':  1.65, 'ccy': 'CAD', 'fx':  1.35},\n",
        "    'MX': {'pop':129.2, 'gdp':  1.15, 'ccy': 'MXN', 'fx': 19.68}\n",
        "    }\n",
        "```\n",
        "\n",
        "Write subsequent statements that (in a loop) prompt the user for a country code (`US`, `CA`, or `MX`), then prompt for a measure name (`pop`, `gdp`, `ccy`, or `fx`), then look up in the above dictionary for the corresponding value, and display it.\n",
        "\n",
        "Example run:\n",
        "```\n",
        "Please enter a country code: CA\n",
        "Please enter a statistic: pop\n",
        "CA pop = 36.5\n",
        "```\n",
        "\n",
        "Your program should handle the cases where a user-entered country code or measure name is not found."
      ],
      "metadata": {
        "id": "QFO0Kzx8ncnv"
      }
    },
    {
      "cell_type": "code",
      "source": [
        "allData = { # dictionary of values for countries\n",
        "    'US': {'pop':325.7, 'gdp': 19.39, 'ccy': 'USD', 'fx':  1.0},\n",
        "    'CA': {'pop': 36.5, 'gdp':  1.65, 'ccy': 'CAD', 'fx':  1.35},\n",
        "    'MX': {'pop':129.2, 'gdp':  1.15, 'ccy': 'MXN', 'fx': 19.68}\n",
        "    }\n",
        "\n",
        "cc = input(\"Please enter a country code: \")\n",
        "\n",
        "while cc in allData.keys():\n",
        "  stat = input(\"Please enter a statistic: \")\n",
        "  if stat in allData[cc].keys():\n",
        "    print(f\"{cc} {stat} = {allData[cc][stat]}\")\n",
        "  else:\n",
        "    print(\"This statistic is not provided.\")\n",
        "\n",
        "  cc = input(\"Please enter a country code: \")\n",
        ""
      ],
      "metadata": {
        "id": "NZFjRINKowEW",
        "colab": {
          "base_uri": "https://localhost:8080/"
        },
        "collapsed": true,
        "outputId": "7759ba93-1d3c-40b0-9fcb-6e380a5335db"
      },
      "execution_count": 28,
      "outputs": [
        {
          "name": "stdout",
          "output_type": "stream",
          "text": [
            "Please enter a country code: US\n",
            "Please enter a statistic: pop\n",
            "US pop = 325.7\n",
            "Please enter a country code: yu\n"
          ]
        }
      ]
    },
    {
      "cell_type": "markdown",
      "source": [
        "## Assignment 3: Parking Garage (6 points)\n",
        "\n",
        "Write a program to compute the fee for parking in a garage for a number of hours.\n",
        "\n",
        "The program should:\n",
        "- Prompt the user for how many hours parked\n",
        "- Calculate the fee based on the following rules:\n",
        "  - $2.50/hour\n",
        "\n",
        "  - minimum fee is $6.00\n",
        "\n",
        "  - maximum fee is $20.00\n",
        "- Print the result\n",
        "\n",
        "For your program, define and use the following two functions:\n",
        "```python\n",
        "# use input() to prompt for the # of hours parked, return this value\n",
        "def getParkingHours()\n",
        "\n",
        "# takes as input hours (a number), returns the parking fee\n",
        "def calcParkingFee()\n",
        "```"
      ],
      "metadata": {
        "id": "GjaUFrnfpKFf"
      }
    },
    {
      "cell_type": "code",
      "source": [
        "# use input() to prompt for the # of hours parked, return this value\n",
        "def getParkingHours():\n",
        "  hours = int(input(\"Hours parked: \"))\n",
        "  return hours\n",
        "\n",
        "# takes as input hours (a number), returns the parking fee\n",
        "def calcParkingFee(hours):\n",
        "  max = 20\n",
        "  min = 6\n",
        "  rate = 2.50 # per hour\n",
        "  calc = hours*rate\n",
        "  if calc > max:\n",
        "    calc = max\n",
        "  elif calc < min:\n",
        "    calc = min\n",
        "  return calc\n",
        "\n",
        "if __name__ == \"__main__\":\n",
        "  hours = getParkingHours()\n",
        "  print(f\"Fee: ${calcParkingFee(hours)}\")"
      ],
      "metadata": {
        "id": "5ha4O3V5pwNN",
        "colab": {
          "base_uri": "https://localhost:8080/"
        },
        "outputId": "413f2065-dc55-48dd-ec53-afae5b76b379"
      },
      "execution_count": 16,
      "outputs": [
        {
          "output_type": "stream",
          "name": "stdout",
          "text": [
            "Hours parked: 5\n",
            "Fee: $12.5\n"
          ]
        }
      ]
    },
    {
      "cell_type": "markdown",
      "source": [
        "## Assignment 4: Tuition (6 points)\n",
        "\n",
        "A college charges tuition according to the following:\n",
        "- 12 or more credits: $20,000/semester\n",
        "\n",
        "- 1-11 credits: $1,200 + $1,700 per credit\n",
        "\n",
        "Write a program that prompts the user for a number of credits and determines and displays the tuition for the semester. As part of your program, define and use the following function:\n",
        "```python\n",
        "def calcTuition(credits)\n",
        "```\n",
        "The function returns the tuition for a given number of credits"
      ],
      "metadata": {
        "id": "gipBObe5qm-2"
      }
    },
    {
      "cell_type": "code",
      "source": [
        "def calcTuition(credits):\n",
        "  if credits >= 12:\n",
        "    m = print(\"$20,000 per semester\")\n",
        "    return m\n",
        "  elif credits >= 1:\n",
        "    calc = 1200 + 1700*credits\n",
        "    m = print(f'{calc} per semester')\n",
        "    return m\n",
        "  else:\n",
        "    return print(\"Need minimum 1 credit\")\n",
        "\n",
        "inp = float(input(\"Enter credit amount: \"))\n",
        "(calcTuition(inp))"
      ],
      "metadata": {
        "id": "BPcn9ywzrL8y",
        "colab": {
          "base_uri": "https://localhost:8080/"
        },
        "outputId": "30bbb1d1-6e51-4709-c13f-808940b3503d"
      },
      "execution_count": null,
      "outputs": [
        {
          "output_type": "stream",
          "name": "stdout",
          "text": [
            "Enter credit amount: 4\n",
            "8000.0 per semester\n"
          ]
        }
      ]
    }
  ]
}