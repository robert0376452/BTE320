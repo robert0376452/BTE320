{
  "nbformat": 4,
  "nbformat_minor": 0,
  "metadata": {
    "colab": {
      "provenance": [],
      "toc_visible": true,
      "authorship_tag": "ABX9TyMvBDUdv39ScSM8SkdYTMxy",
      "include_colab_link": true
    },
    "kernelspec": {
      "name": "python3",
      "display_name": "Python 3"
    },
    "language_info": {
      "name": "python"
    }
  },
  "cells": [
    {
      "cell_type": "markdown",
      "metadata": {
        "id": "view-in-github",
        "colab_type": "text"
      },
      "source": [
        "<a href=\"https://colab.research.google.com/github/robert0376452/BTE320/blob/main/In_Class_Assignments_BTE320.ipynb\" target=\"_parent\"><img src=\"https://colab.research.google.com/assets/colab-badge.svg\" alt=\"Open In Colab\"/></a>"
      ]
    },
    {
      "cell_type": "markdown",
      "source": [
        "#SA Cylinder"
      ],
      "metadata": {
        "id": "3yE9pxLCLg5F"
      }
    },
    {
      "cell_type": "code",
      "execution_count": null,
      "metadata": {
        "colab": {
          "base_uri": "https://localhost:8080/"
        },
        "id": "66lfyFRUCntl",
        "outputId": "11140fc8-ae2b-46d2-ca1d-0df0899be176"
      },
      "outputs": [
        {
          "output_type": "stream",
          "name": "stdout",
          "text": [
            "244.92000000000002\n"
          ]
        }
      ],
      "source": [
        "r = 3 # radius\n",
        "h = 10 # height\n",
        "pi = 3.14 # pi\n",
        "SA_Cylinder = (2*pi*(r**2))+(2*pi*r*h) # surface area of cylinder\n",
        "# Show result\n",
        "print(SA_Cylinder)"
      ]
    },
    {
      "cell_type": "markdown",
      "source": [
        "#Rock, Paper, Scissors"
      ],
      "metadata": {
        "id": "KfpEGuSwLjqP"
      }
    },
    {
      "cell_type": "code",
      "source": [
        "#Rock, Paper, Scissors between 2 players Assignment\n",
        "\n",
        "choice = input(\"Want to play Rock, Paper, Scissors? \").capitalize()\n",
        "\n",
        "while choice == \"Yes\":\n",
        "\n",
        "  p1 = input(\"P1 Rock, Paper, or Scissors: \").capitalize() #choice of rock, paper, scissors for P1\n",
        "  p2 = input(\"P2 Rock, Paper, or Scissors: \").capitalize() #choice of rock, paper, scissors for P2\n",
        "\n",
        "  if p1 == p2:\n",
        "    print(\"Draw!\")\n",
        "  elif p1 == \"Rock\" and p2 == \"Paper\":\n",
        "    print(\"Player 2 wins!\")\n",
        "  elif p1 == \"Rock\" and p2 == \"Scissors\":\n",
        "    print(\"Player 1 wins!\")\n",
        "  elif p1 == \"Paper\" and p2 == \"Scissors\":\n",
        "    print(\"Player 2 wins!\")\n",
        "  elif p1 == \"Paper\" and p2 == \"Rock\":\n",
        "    print(\"Player 1 wins!\")\n",
        "  elif p1 == \"Scissors\" and p2 == \"Rock\":\n",
        "    print(\"Player 2 wins!\")\n",
        "  elif p1 == \"Scissors\" and p2 == \"Paper\":\n",
        "    print(\"Player 1 wins!\")\n",
        "  print(\"Good Game!\")\n",
        "  print()\n",
        "  choice = input(\"Want to play Rock, Paper, Scissors? \").capitalize()"
      ],
      "metadata": {
        "colab": {
          "base_uri": "https://localhost:8080/"
        },
        "id": "eqZZKo_mLbHn",
        "outputId": "d2b9d650-a5fa-41b5-f42d-1d78d5536d32"
      },
      "execution_count": null,
      "outputs": [
        {
          "name": "stdout",
          "output_type": "stream",
          "text": [
            "Want to play Rock, Paper, Scissors? yes\n",
            "P1 Rock, Paper, or Scissors: rock\n",
            "P2 Rock, Paper, or Scissors: paper\n",
            "Player 2 wins!\n",
            "Good Game!\n",
            "\n",
            "Want to play Rock, Paper, Scissors? no\n"
          ]
        }
      ]
    },
    {
      "cell_type": "markdown",
      "source": [
        "#Calculator"
      ],
      "metadata": {
        "id": "24URj2cCW6Dp"
      }
    },
    {
      "cell_type": "code",
      "source": [
        "# + - * / **\n",
        "# n1 and n2 and symbol as inputs\n",
        "# n1 and n2 floats, symbol as string\n",
        "# I: 3 inputs, P: conditionals, O: outcome of math\n",
        "\n",
        "n1 = float(input(\"Enter number 1: \"))\n",
        "n2 = float(input(\"Enter number 2: \"))\n",
        "operator = input(\"Enter operator (+, -, *, /, **): \")\n",
        "print()\n",
        "\n",
        "if operator == \"+\":\n",
        "  solution = (n1) + (n2)\n",
        "  print(solution)\n",
        "elif operator == \"-\":\n",
        "  solution = (n1) - (n2)\n",
        "  print(solution)\n",
        "elif operator == \"*\":\n",
        "  solution = (n1) * (n2)\n",
        "  print(solution)\n",
        "elif operator == \"/\":\n",
        "  solution = (n1) / (n2)\n",
        "  print(solution)\n",
        "elif operator == \"-\":\n",
        "  solution = (n1) ** (n2)\n",
        "  print(solution)\n",
        "\n",
        "print()\n",
        "print(\"Program ends...\")"
      ],
      "metadata": {
        "id": "6FPUztWVMahF",
        "colab": {
          "base_uri": "https://localhost:8080/"
        },
        "outputId": "da3c403e-88d7-4d09-c295-7e402110a668"
      },
      "execution_count": null,
      "outputs": [
        {
          "output_type": "stream",
          "name": "stdout",
          "text": [
            "Enter number 1: 2\n",
            "Enter number 2: 3\n",
            "Enter operator (+, -, *, /, **): *\n",
            "\n",
            "6.0\n",
            "\n",
            "Program ends...\n"
          ]
        }
      ]
    },
    {
      "cell_type": "markdown",
      "source": [
        "#Parking Garage"
      ],
      "metadata": {
        "id": "Yt6WP7LQcXuC"
      }
    },
    {
      "cell_type": "code",
      "source": [
        "#Parking Garage - Initial Problem\n",
        "\"\"\"\n",
        "Parking garage charges $5 plus $2.50 for each hour parked. The minimum fee is $10 and the maximum fee is $20.\n",
        "\n",
        "Write a program that generates a table with hours parked and the corresponding fee, from 1 to 8 hours.\n",
        "\n",
        "Example output:\n",
        "1 10.0\n",
        "2 10.0\n",
        "3 12.5\n",
        "4 15.0\n",
        "5 17.5\n",
        "6 20.0\n",
        "7 20.0\n",
        "8 20.0\n",
        "\n",
        "\"\"\"\n",
        "#\n",
        "flat_rate = 5\n",
        "hourly_rate = 2.50\n",
        "\n",
        "for i in range(1,9,1):\n",
        "  total = flat_rate + hourly_rate * i\n",
        "  if total < 10:\n",
        "    total = 10\n",
        "  elif total > 20:\n",
        "    total = 20\n",
        "  print(total)"
      ],
      "metadata": {
        "colab": {
          "base_uri": "https://localhost:8080/"
        },
        "id": "MDZwyWzIcWkU",
        "outputId": "43658b19-b0de-48f7-854f-cbf860eedce2"
      },
      "execution_count": 4,
      "outputs": [
        {
          "output_type": "stream",
          "name": "stdout",
          "text": [
            "10\n",
            "10.0\n",
            "12.5\n",
            "15.0\n",
            "17.5\n",
            "20.0\n",
            "20\n",
            "20\n"
          ]
        }
      ]
    },
    {
      "cell_type": "markdown",
      "source": [
        "#Movie Theater"
      ],
      "metadata": {
        "id": "LYW8oLcQox0n"
      }
    },
    {
      "cell_type": "code",
      "source": [
        "# Movie Theater - Initial Problem\n",
        "\n",
        "\"\"\"\n",
        "A movie theater manager is deciding how much to spend on advertising for an upcoming movie. Each ticket is $10.\n",
        "Without any advertising, 20 people are forecasted to attend. Additional people may attend based on advertising\n",
        "spending, estimated to be:\n",
        "  Additional attendees = 2 * round(advertisingDollars**0.5)\n",
        "In addition to advertising costs, there are fixed costs to run the theater of $200.\n",
        "\n",
        "Write program to generate a table for differnet advertising amounts and profits.\n",
        "\n",
        "Example output:\n",
        "Ad$ | Profit\n",
        "0   | 0\n",
        "25  | 75\n",
        "50  | 90\n",
        "75  | 105\n",
        "100 | 100\n",
        "125 | 95\n",
        "150 | 90\n",
        "175 | 85\n",
        "200 | 80\n",
        "\"\"\"\n",
        "print(\"Ad$  Profit\")\n",
        "for ad in range(0,201,25):\n",
        "  additional = 2*round(ad**0.5)\n",
        "  profit = (20 + additional)*10 - 200 - ad\n",
        "  print(ad, profit, sep = \"    \")\n",
        "\n",
        "\n"
      ],
      "metadata": {
        "colab": {
          "base_uri": "https://localhost:8080/"
        },
        "id": "MuH95gw8kjBF",
        "outputId": "a1a53cbe-a4a3-47ce-e471-fac49acbed22"
      },
      "execution_count": 36,
      "outputs": [
        {
          "output_type": "stream",
          "name": "stdout",
          "text": [
            "Ad$  Profit\n",
            "0    0\n",
            "25    75\n",
            "50    90\n",
            "75    105\n",
            "100    100\n",
            "125    95\n",
            "150    90\n",
            "175    85\n",
            "200    80\n"
          ]
        }
      ]
    }
  ]
}