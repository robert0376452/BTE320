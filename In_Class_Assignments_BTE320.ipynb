{
  "nbformat": 4,
  "nbformat_minor": 0,
  "metadata": {
    "colab": {
      "provenance": [],
      "toc_visible": true,
      "authorship_tag": "ABX9TyPHhcLZzkJNIb4/DvpRePlf",
      "include_colab_link": true
    },
    "kernelspec": {
      "name": "python3",
      "display_name": "Python 3"
    },
    "language_info": {
      "name": "python"
    }
  },
  "cells": [
    {
      "cell_type": "markdown",
      "metadata": {
        "id": "view-in-github",
        "colab_type": "text"
      },
      "source": [
        "<a href=\"https://colab.research.google.com/github/robert0376452/BTE320/blob/main/In_Class_Assignments_BTE320.ipynb\" target=\"_parent\"><img src=\"https://colab.research.google.com/assets/colab-badge.svg\" alt=\"Open In Colab\"/></a>"
      ]
    },
    {
      "cell_type": "markdown",
      "source": [
        "#SA Cylinder"
      ],
      "metadata": {
        "id": "3yE9pxLCLg5F"
      }
    },
    {
      "cell_type": "code",
      "execution_count": null,
      "metadata": {
        "colab": {
          "base_uri": "https://localhost:8080/"
        },
        "id": "66lfyFRUCntl",
        "outputId": "11140fc8-ae2b-46d2-ca1d-0df0899be176"
      },
      "outputs": [
        {
          "output_type": "stream",
          "name": "stdout",
          "text": [
            "244.92000000000002\n"
          ]
        }
      ],
      "source": [
        "r = 3 # radius\n",
        "h = 10 # height\n",
        "pi = 3.14 # pi\n",
        "SA_Cylinder = (2*pi*(r**2))+(2*pi*r*h) # surface area of cylinder\n",
        "# Show result\n",
        "print(SA_Cylinder)"
      ]
    },
    {
      "cell_type": "markdown",
      "source": [
        "#Rock, Paper, Scissors"
      ],
      "metadata": {
        "id": "KfpEGuSwLjqP"
      }
    },
    {
      "cell_type": "code",
      "source": [
        "#Rock, Paper, Scissors between 2 players Assignment\n",
        "\n",
        "choice = input(\"Want to play Rock, Paper, Scissors? \").capitalize()\n",
        "\n",
        "while choice == \"Yes\":\n",
        "\n",
        "  p1 = input(\"P1 Rock, Paper, or Scissors: \").capitalize() #choice of rock, paper, scissors for P1\n",
        "  p2 = input(\"P2 Rock, Paper, or Scissors: \").capitalize() #choice of rock, paper, scissors for P2\n",
        "\n",
        "  if p1 == p2:\n",
        "    print(\"Draw!\")\n",
        "  elif p1 == \"Rock\" and p2 == \"Paper\":\n",
        "    print(\"Player 2 wins!\")\n",
        "  elif p1 == \"Rock\" and p2 == \"Scissors\":\n",
        "    print(\"Player 1 wins!\")\n",
        "  elif p1 == \"Paper\" and p2 == \"Scissors\":\n",
        "    print(\"Player 2 wins!\")\n",
        "  elif p1 == \"Paper\" and p2 == \"Rock\":\n",
        "    print(\"Player 1 wins!\")\n",
        "  elif p1 == \"Scissors\" and p2 == \"Rock\":\n",
        "    print(\"Player 2 wins!\")\n",
        "  elif p1 == \"Scissors\" and p2 == \"Paper\":\n",
        "    print(\"Player 1 wins!\")\n",
        "  print(\"Good Game!\")\n",
        "  print()\n",
        "  choice = input(\"Want to play Rock, Paper, Scissors? \").capitalize()"
      ],
      "metadata": {
        "colab": {
          "base_uri": "https://localhost:8080/"
        },
        "id": "eqZZKo_mLbHn",
        "outputId": "d2b9d650-a5fa-41b5-f42d-1d78d5536d32"
      },
      "execution_count": null,
      "outputs": [
        {
          "name": "stdout",
          "output_type": "stream",
          "text": [
            "Want to play Rock, Paper, Scissors? yes\n",
            "P1 Rock, Paper, or Scissors: rock\n",
            "P2 Rock, Paper, or Scissors: paper\n",
            "Player 2 wins!\n",
            "Good Game!\n",
            "\n",
            "Want to play Rock, Paper, Scissors? no\n"
          ]
        }
      ]
    },
    {
      "cell_type": "markdown",
      "source": [
        "#Calculator"
      ],
      "metadata": {
        "id": "24URj2cCW6Dp"
      }
    },
    {
      "cell_type": "code",
      "source": [
        "# + - * / **\n",
        "# n1 and n2 and symbol as inputs\n",
        "# n1 and n2 floats, symbol as string\n",
        "# I: 3 inputs, P: conditionals, O: outcome of math\n",
        "\n",
        "n1 = float(input(\"Enter number 1: \"))\n",
        "n2 = float(input(\"Enter number 2: \"))\n",
        "operator = input(\"Enter operator (+, -, *, /, **): \")\n",
        "print()\n",
        "\n",
        "if operator == \"+\":\n",
        "  solution = (n1) + (n2)\n",
        "  print(solution)\n",
        "elif operator == \"-\":\n",
        "  solution = (n1) - (n2)\n",
        "  print(solution)\n",
        "elif operator == \"*\":\n",
        "  solution = (n1) * (n2)\n",
        "  print(solution)\n",
        "elif operator == \"/\":\n",
        "  solution = (n1) / (n2)\n",
        "  print(solution)\n",
        "elif operator == \"-\":\n",
        "  solution = (n1) ** (n2)\n",
        "  print(solution)\n",
        "\n",
        "print()\n",
        "print(\"Program ends...\")"
      ],
      "metadata": {
        "id": "6FPUztWVMahF",
        "colab": {
          "base_uri": "https://localhost:8080/"
        },
        "outputId": "da3c403e-88d7-4d09-c295-7e402110a668"
      },
      "execution_count": null,
      "outputs": [
        {
          "output_type": "stream",
          "name": "stdout",
          "text": [
            "Enter number 1: 2\n",
            "Enter number 2: 3\n",
            "Enter operator (+, -, *, /, **): *\n",
            "\n",
            "6.0\n",
            "\n",
            "Program ends...\n"
          ]
        }
      ]
    },
    {
      "cell_type": "markdown",
      "source": [
        "#Parking Garage"
      ],
      "metadata": {
        "id": "Yt6WP7LQcXuC"
      }
    },
    {
      "cell_type": "code",
      "source": [
        "#Parking Garage - Initial Problem\n",
        "\"\"\"\n",
        "Parking garage charges $5 plus $2.50 for each hour parked. The minimum fee is $10 and the maximum fee is $20.\n",
        "\n",
        "Write a program that generates a table with hours parked and the corresponding fee, from 1 to 8 hours.\n",
        "\n",
        "Example output:\n",
        "1 10.0\n",
        "2 10.0\n",
        "3 12.5\n",
        "4 15.0\n",
        "5 17.5\n",
        "6 20.0\n",
        "7 20.0\n",
        "8 20.0\n",
        "\n",
        "\"\"\"\n",
        "#\n",
        "flat_rate = 5\n",
        "hourly_rate = 2.50\n",
        "\n",
        "for i in range(1,9,1):\n",
        "  total = flat_rate + hourly_rate * i\n",
        "  if total < 10:\n",
        "    total = 10\n",
        "  elif total > 20:\n",
        "    total = 20\n",
        "  print(total)"
      ],
      "metadata": {
        "colab": {
          "base_uri": "https://localhost:8080/"
        },
        "id": "MDZwyWzIcWkU",
        "outputId": "43658b19-b0de-48f7-854f-cbf860eedce2"
      },
      "execution_count": null,
      "outputs": [
        {
          "output_type": "stream",
          "name": "stdout",
          "text": [
            "10\n",
            "10.0\n",
            "12.5\n",
            "15.0\n",
            "17.5\n",
            "20.0\n",
            "20\n",
            "20\n"
          ]
        }
      ]
    },
    {
      "cell_type": "markdown",
      "source": [
        "#Movie Theater"
      ],
      "metadata": {
        "id": "LYW8oLcQox0n"
      }
    },
    {
      "cell_type": "code",
      "source": [
        "# Movie Theater - Initial Problem\n",
        "\n",
        "\"\"\"\n",
        "A movie theater manager is deciding how much to spend on advertising for an upcoming movie. Each ticket is $10.\n",
        "Without any advertising, 20 people are forecasted to attend. Additional people may attend based on advertising\n",
        "spending, estimated to be:\n",
        "  Additional attendees = 2 * round(advertisingDollars**0.5)\n",
        "In addition to advertising costs, there are fixed costs to run the theater of $200.\n",
        "\n",
        "Write program to generate a table for differnet advertising amounts and profits.\n",
        "\n",
        "Example output:\n",
        "Ad$ | Profit\n",
        "0   | 0\n",
        "25  | 75\n",
        "50  | 90\n",
        "75  | 105\n",
        "100 | 100\n",
        "125 | 95\n",
        "150 | 90\n",
        "175 | 85\n",
        "200 | 80\n",
        "\"\"\"\n",
        "print(\"Ad$  Profit\")\n",
        "for ad in range(0,201,25):\n",
        "  additional = 2*round(ad**0.5)\n",
        "  profit = (20 + additional)*10 - 200 - ad\n",
        "  print(ad, profit, sep = \"    \")\n",
        "\n",
        "\n"
      ],
      "metadata": {
        "colab": {
          "base_uri": "https://localhost:8080/"
        },
        "id": "MuH95gw8kjBF",
        "outputId": "a1a53cbe-a4a3-47ce-e471-fac49acbed22"
      },
      "execution_count": null,
      "outputs": [
        {
          "output_type": "stream",
          "name": "stdout",
          "text": [
            "Ad$  Profit\n",
            "0    0\n",
            "25    75\n",
            "50    90\n",
            "75    105\n",
            "100    100\n",
            "125    95\n",
            "150    90\n",
            "175    85\n",
            "200    80\n"
          ]
        }
      ]
    },
    {
      "cell_type": "markdown",
      "source": [
        "#List"
      ],
      "metadata": {
        "id": "3QIZ2ytmp4ay"
      }
    },
    {
      "cell_type": "code",
      "source": [
        "#Program asks user for integer inputs from keyboard. Those inputs have to be appended to list.\n",
        "#List starts adding inputs to list. This happens repeatedly until the user gives 0 as input.\n",
        "L = []\n",
        "item = int(input(\"Provide an input: \"))\n",
        "while item != 0:\n",
        "  L.append(item)\n",
        "  print(L)\n",
        "  item = int(input(\"Give another input: \"))\n",
        "print(\"You inputed 0.\")"
      ],
      "metadata": {
        "colab": {
          "base_uri": "https://localhost:8080/"
        },
        "id": "3xwqxogVmSRD",
        "outputId": "7a61b9c8-417f-4abe-b81d-69e1d2c40fb3"
      },
      "execution_count": null,
      "outputs": [
        {
          "output_type": "stream",
          "name": "stdout",
          "text": [
            "Provide an input: 78\n",
            "[78]\n",
            "Give another input: 6\n",
            "[78, 6]\n",
            "Give another input: 0\n",
            "You inputed 0.\n"
          ]
        }
      ]
    },
    {
      "cell_type": "markdown",
      "source": [
        "#Dict"
      ],
      "metadata": {
        "id": "kiml4mTTWKlv"
      }
    },
    {
      "cell_type": "code",
      "source": [
        "months = {}\n",
        "names = [\"Jan\", \"Feb\", \"Mar\", \"Apr\", \"May\", \"Jun\", \"Jul\", \"Aug\", \"Sep\", \"Oct\", \"Nov\", \"Dec\"]\n",
        "numbers = [1,2,3,4,5,6,7,8,9,10,11,12]\n",
        "\n",
        "# Output: {1:\"Jan\", 2:\"Feb\",...}\n",
        "\n",
        "for i in range(len(names)): #length is 12 so goes from 0 to 11\n",
        "  months[numbers[i]] = names[i] #index starts at 0, so index[11] is digit 12\n",
        "months"
      ],
      "metadata": {
        "colab": {
          "base_uri": "https://localhost:8080/"
        },
        "id": "zMn2f5-LWJ5k",
        "outputId": "e60c48b9-300d-45ef-8583-dbce3048a48d"
      },
      "execution_count": null,
      "outputs": [
        {
          "output_type": "execute_result",
          "data": {
            "text/plain": [
              "{1: 'Jan',\n",
              " 2: 'Feb',\n",
              " 3: 'Mar',\n",
              " 4: 'Apr',\n",
              " 5: 'May',\n",
              " 6: 'Jun',\n",
              " 7: 'Jul',\n",
              " 8: 'Aug',\n",
              " 9: 'Sep',\n",
              " 10: 'Oct',\n",
              " 11: 'Nov',\n",
              " 12: 'Dec'}"
            ]
          },
          "metadata": {},
          "execution_count": 58
        }
      ]
    },
    {
      "cell_type": "markdown",
      "source": [
        "#House - Functions"
      ],
      "metadata": {
        "id": "5lDxLUY-nFYh"
      }
    },
    {
      "cell_type": "code",
      "source": [
        "def inputs():\n",
        "  annual_salary = float(input(\"Enter Salary: \"))\n",
        "  portion_saved = float(input(\"Enter Portion Saved (Decimal): \"))\n",
        "  total_cost = float(input(\"Total House Cost: \"))\n",
        "\n",
        "  return annual_salary, portion_saved, total_cost\n",
        "\n",
        "annual_salary, portion_saved, total_cost = inputs()\n",
        "\n",
        "portion_down_payment = 0.25 # 25%\n",
        "r = 0.04 # 4%\n",
        "monthly_salary = annual_salary/12\n",
        "down_payment = total_cost * portion_down_payment\n",
        "months = 0\n",
        "\n",
        "while current_savings < down_payment:\n",
        "  return_on_investment = current_savings * r / 12\n",
        "  savings_from_salary = monthly_salary * portion_saved\n",
        "  current_savings += return_on_investment + savings_from_salary\n",
        "  months += 1\n",
        "\n",
        "print(f\"Number of months left: {months}\")"
      ],
      "metadata": {
        "id": "qHtFSkpEnG82",
        "colab": {
          "base_uri": "https://localhost:8080/"
        },
        "outputId": "f1c7b4c0-122c-42f6-b2e3-e1914132a316"
      },
      "execution_count": null,
      "outputs": [
        {
          "output_type": "stream",
          "name": "stdout",
          "text": [
            "Enter Salary: 10000\n",
            "Enter Portion Saved (Decimal): .2\n",
            "Total House Cost: 100000\n",
            "Number of months left: 107\n"
          ]
        }
      ]
    },
    {
      "cell_type": "markdown",
      "source": [
        "##Saving with Raise"
      ],
      "metadata": {
        "id": "y0m9loNGpajc"
      }
    },
    {
      "cell_type": "code",
      "source": [
        "def inputs():\n",
        "  annual_salary = float(input(\"Enter Salary: \"))\n",
        "  portion_saved = float(input(\"Enter Portion Saved (Decimal): \"))\n",
        "  total_cost = float(input(\"Total House Cost: \"))\n",
        "  semi_annual_raise = float(input(\"Enter semi-annual raise (Deminal): \"))\n",
        "\n",
        "  return annual_salary, portion_saved, total_cost, semi_annual_raise\n",
        "\n",
        "annual_salary, portion_saved, total_cost, semi_annual_raise = inputs()\n",
        "\n",
        "portion_down_payment = 0.25 # 25%\n",
        "r = 0.04 # 4%\n",
        "monthly_salary = annual_salary/12\n",
        "down_payment = total_cost * portion_down_payment\n",
        "months = 0\n",
        "\n",
        "while current_savings < down_payment:\n",
        "  return_on_investment = current_savings * r / 12\n",
        "  savings_from_salary = monthly_salary * portion_saved\n",
        "  current_savings += return_on_investment + savings_from_salary\n",
        "  months += 1\n",
        "\n",
        "  if months%6 == 0: # every time has a multiple of 6\n",
        "    annual_salary *= (1 + semi_annual_raise)\n",
        "    monthly_salary = annual_salary / 12 # update monthly_salary\n",
        "\n",
        "print(f\"Number of months left: {months}\")\n"
      ],
      "metadata": {
        "id": "MHQqJXLfpcM8",
        "colab": {
          "base_uri": "https://localhost:8080/"
        },
        "outputId": "c7aa9154-c252-4e10-888b-f74ebb82245e"
      },
      "execution_count": null,
      "outputs": [
        {
          "output_type": "stream",
          "name": "stdout",
          "text": [
            "Enter Salary: 10000\n",
            "Enter Portion Saved (Decimal): .1\n",
            "Total House Cost: 2000000\n",
            "Enter semi-annual raise (Deminal): .03\n",
            "Number of months left: 187\n"
          ]
        }
      ]
    },
    {
      "cell_type": "markdown",
      "source": [
        "#Check if number within range"
      ],
      "metadata": {
        "id": "8C8rppMovxC0"
      }
    },
    {
      "cell_type": "code",
      "source": [
        "def range_check(number,low,high):\n",
        "  if number >= low and number <= high:\n",
        "    print(f\"{number} is in range\")\n",
        "  else:\n",
        "    print(f\"Number not in range {low} to {high}\")\n",
        "\n",
        "range_check(2,1,3)"
      ],
      "metadata": {
        "colab": {
          "base_uri": "https://localhost:8080/"
        },
        "id": "VFbqC46gnCHH",
        "outputId": "590428a6-d3e7-42a4-b674-669cf16fa979"
      },
      "execution_count": null,
      "outputs": [
        {
          "output_type": "stream",
          "name": "stdout",
          "text": [
            "2 is in range\n"
          ]
        }
      ]
    },
    {
      "cell_type": "code",
      "source": [
        "def range_check(number,low,high):\n",
        "  if number >= low and number <= high:\n",
        "    return True\n",
        "  else:\n",
        "    return False\n",
        "\n",
        "print(range_check(2,1,3)) #functions can be inputs of functions and returns of functions\n",
        "# True becomes the new placeholder for function print() and is displayed on screen"
      ],
      "metadata": {
        "colab": {
          "base_uri": "https://localhost:8080/"
        },
        "id": "-eqLIQvZvzbH",
        "outputId": "8a050adb-af00-4d6f-da4e-a742b88871bb"
      },
      "execution_count": null,
      "outputs": [
        {
          "output_type": "stream",
          "name": "stdout",
          "text": [
            "True\n"
          ]
        }
      ]
    },
    {
      "cell_type": "markdown",
      "source": [
        "#Parking Fee Function"
      ],
      "metadata": {
        "id": "W4GU0jB1ijrD"
      }
    },
    {
      "cell_type": "code",
      "source": [
        "#Parking Garage - Initial Problem\n",
        "# Parking garage charges $5 plus $2.50 for each hour parked.\n",
        "# Write a program that:\n",
        "# Prompts for the number of hours parked\n",
        "# Calculates and displays the parking fee charged\n",
        "# As part of your program, define the function that caculates the parking fee given a number of hours.\n",
        "# Use the signature: def calcFee(hours)\n",
        "# Example run:\n",
        "# Enter hours parked: 4\n",
        "# Parking fee: $15.0\n",
        "\n",
        "def calcFee(hours):\n",
        "  flat_fee = 5\n",
        "  per_hour = 2.5\n",
        "  calculation = flat_fee + per_hour * hours\n",
        "  return calculation\n",
        "\n",
        "hours_parked = float(input(\"Enter hours parked: \"))\n",
        "fee = calcFee(hours_parked)\n",
        "\n",
        "print(f\"Parking fee: {fee}\")"
      ],
      "metadata": {
        "colab": {
          "base_uri": "https://localhost:8080/"
        },
        "id": "7iqzBIbudGFX",
        "outputId": "afaaac06-09cb-4207-9933-c953a7fa2283"
      },
      "execution_count": 23,
      "outputs": [
        {
          "output_type": "stream",
          "name": "stdout",
          "text": [
            "Enter hours parked: 7\n",
            "Parking fee: 22.5\n"
          ]
        }
      ]
    },
    {
      "cell_type": "code",
      "source": [
        "# Enhancements\n",
        "# Define and call a function that displays the result with signature: displayFee(fee)\n",
        "# Refine the signature for calcFee(), to include a named parameter, decimals, which controls the\n",
        "# rounding on the calculated fee. The signatures should be:\n",
        "# def calcFee(hours, decimals=2)\n",
        "# Example run:\n",
        "# Enter hours parked: 4\n",
        "# Parking fee: $15.0\n",
        "\n",
        "def calcFee(hours, decimals=2):\n",
        "  flat_fee = 5\n",
        "  per_hour = 2.5\n",
        "  calculation = round(flat_fee + per_hour * hours, decimals)\n",
        "  return calculation\n",
        "def displayFee(fee):\n",
        "  print(fee)\n",
        "\n",
        "\n",
        "hours_parked = float(input(\"Enter hours parked: \"))\n",
        "fee = calcFee(hours_parked)\n",
        "\n",
        "displayFee(fee)"
      ],
      "metadata": {
        "colab": {
          "base_uri": "https://localhost:8080/"
        },
        "id": "SY-7koTEimJy",
        "outputId": "0f9d5ddf-8dcb-44c9-ecf4-7d8a0b7400a8"
      },
      "execution_count": 31,
      "outputs": [
        {
          "output_type": "stream",
          "name": "stdout",
          "text": [
            "Enter hours parked: 4\n",
            "15.0\n"
          ]
        }
      ]
    }
  ]
}