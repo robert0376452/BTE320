{
  "nbformat": 4,
  "nbformat_minor": 0,
  "metadata": {
    "colab": {
      "provenance": [],
      "toc_visible": true,
      "authorship_tag": "ABX9TyN8o6X/vJdTf6/EAZoPSyrB",
      "include_colab_link": true
    },
    "kernelspec": {
      "name": "python3",
      "display_name": "Python 3"
    },
    "language_info": {
      "name": "python"
    }
  },
  "cells": [
    {
      "cell_type": "markdown",
      "metadata": {
        "id": "view-in-github",
        "colab_type": "text"
      },
      "source": [
        "<a href=\"https://colab.research.google.com/github/robert0376452/BTE320/blob/main/In_Class_Assignments_BTE320.ipynb\" target=\"_parent\"><img src=\"https://colab.research.google.com/assets/colab-badge.svg\" alt=\"Open In Colab\"/></a>"
      ]
    },
    {
      "cell_type": "markdown",
      "source": [
        "#SA Cylinder"
      ],
      "metadata": {
        "id": "3yE9pxLCLg5F"
      }
    },
    {
      "cell_type": "code",
      "execution_count": null,
      "metadata": {
        "colab": {
          "base_uri": "https://localhost:8080/"
        },
        "id": "66lfyFRUCntl",
        "outputId": "11140fc8-ae2b-46d2-ca1d-0df0899be176"
      },
      "outputs": [
        {
          "output_type": "stream",
          "name": "stdout",
          "text": [
            "244.92000000000002\n"
          ]
        }
      ],
      "source": [
        "r = 3 # radius\n",
        "h = 10 # height\n",
        "pi = 3.14 # pi\n",
        "SA_Cylinder = (2*pi*(r**2))+(2*pi*r*h) # surface area of cylinder\n",
        "# Show result\n",
        "print(SA_Cylinder)"
      ]
    },
    {
      "cell_type": "markdown",
      "source": [
        "#Rock, Paper, Scissors"
      ],
      "metadata": {
        "id": "KfpEGuSwLjqP"
      }
    },
    {
      "cell_type": "code",
      "source": [
        "#Rock, Paper, Scissors between 2 players Assignment\n",
        "p1 = input(\"P1 Rock, Paper, or Scissors: \") #choice of rock, paper, scissors for P1\n",
        "p2 = input(\"P2 Rock, Paper, or Scissors: \") #choice of rock, paper, scissors for P2\n",
        "\n",
        "if p1 == p2:\n",
        "  print(\"Draw!\")\n",
        "elif p1 == \"Rock\" and p2 == \"Paper\":\n",
        "  print(\"Player 2 wins!\")\n",
        "elif p1 == \"Rock\" and p2 == \"Scissors\":\n",
        "  print(\"Player 1 wins!\")\n",
        "elif p1 == \"Paper\" and p2 == \"Scissors\":\n",
        "  print(\"Player 2 wins!\")\n",
        "elif p1 == \"Paper\" and p2 == \"Rock\":\n",
        "  print(\"Player 1 wins!\")\n",
        "elif p1 == \"Scissors\" and p2 == \"Rock\":\n",
        "  print(\"Player 2 wins!\")\n",
        "elif p1 == \"Scisors\" and p2 == \"Paper\":\n",
        "  print(\"Player 1 wins!\")\n",
        "print(\"Good Game!\")"
      ],
      "metadata": {
        "colab": {
          "base_uri": "https://localhost:8080/"
        },
        "id": "eqZZKo_mLbHn",
        "outputId": "9de17ec3-a05d-4818-b9bd-12bda521fd3f"
      },
      "execution_count": null,
      "outputs": [
        {
          "output_type": "stream",
          "name": "stdout",
          "text": [
            "P1 Rock, Paper, or Scissors: Rock\n",
            "P2 Rock, Paper, or Scissors: Paper\n",
            "Player 2 wins!\n",
            "Good Game!\n"
          ]
        }
      ]
    },
    {
      "cell_type": "markdown",
      "source": [
        "#Calculator"
      ],
      "metadata": {
        "id": "24URj2cCW6Dp"
      }
    },
    {
      "cell_type": "code",
      "source": [
        "# + - * / **\n",
        "# n1 and n2 and symbol as inputs\n",
        "# n1 and n2 floats, symbol as string\n",
        "# I: 3 inputs, P: conditionals, O: outcome of math\n",
        "\n",
        "n1 = float(input(\"Enter number 1: \"))\n",
        "n2 = float(input(\"Enter number 2: \"))\n",
        "operator = input(\"Enter operator (+, -, *, /, **): \")\n",
        "print()\n",
        "\n",
        "if operator == \"+\":\n",
        "  solution = (n1) + (n2)\n",
        "  print(solution)\n",
        "elif operator == \"-\":\n",
        "  solution = (n1) - (n2)\n",
        "  print(solution)\n",
        "elif operator == \"*\":\n",
        "  solution = (n1) * (n2)\n",
        "  print(solution)\n",
        "elif operator == \"/\":\n",
        "  solution = (n1) / (n2)\n",
        "  print(solution)\n",
        "elif operator == \"-\":\n",
        "  solution = (n1) ** (n2)\n",
        "  print(solution)\n",
        "\n",
        "print()\n",
        "print(\"Program ends...\")"
      ],
      "metadata": {
        "id": "6FPUztWVMahF",
        "colab": {
          "base_uri": "https://localhost:8080/"
        },
        "outputId": "da3c403e-88d7-4d09-c295-7e402110a668"
      },
      "execution_count": 16,
      "outputs": [
        {
          "output_type": "stream",
          "name": "stdout",
          "text": [
            "Enter number 1: 2\n",
            "Enter number 2: 3\n",
            "Enter operator (+, -, *, /, **): *\n",
            "\n",
            "6.0\n",
            "\n",
            "Program ends...\n"
          ]
        }
      ]
    }
  ]
}